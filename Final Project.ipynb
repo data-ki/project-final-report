{
 "cells": [
  {
   "cell_type": "markdown",
   "id": "7420b7d9-71ca-4402-b8e1-5571a87cc530",
   "metadata": {},
   "source": [
    "Project Final"
   ]
  },
  {
   "cell_type": "code",
   "execution_count": null,
   "id": "99762302-4ab2-4700-9fa8-bdf472676f95",
   "metadata": {},
   "outputs": [],
   "source": []
  }
 ],
 "metadata": {
  "kernelspec": {
   "display_name": "R",
   "language": "R",
   "name": "ir"
  },
  "language_info": {
   "codemirror_mode": "r",
   "file_extension": ".r",
   "mimetype": "text/x-r-source",
   "name": "R",
   "pygments_lexer": "r",
   "version": "4.3.3"
  }
 },
 "nbformat": 4,
 "nbformat_minor": 5
}
